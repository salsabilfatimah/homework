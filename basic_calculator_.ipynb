{
  "nbformat": 4,
  "nbformat_minor": 0,
  "metadata": {
    "colab": {
      "provenance": []
    },
    "kernelspec": {
      "name": "python3",
      "display_name": "Python 3"
    },
    "language_info": {
      "name": "python"
    }
  },
  "cells": [
    {
      "cell_type": "code",
      "execution_count": null,
      "metadata": {
        "id": "DViOSyNKC3x3"
      },
      "outputs": [],
      "source": [
        "a = int(input(\"Enter a number:\"))\n",
        "b = int(input(\"Enter a number:\"))\n",
        "op = input(\"Enter your operator:\")\n",
        "\n",
        "if op == \"+\":\n",
        "  print(a+b)\n",
        "elif op == \"-\":\n",
        "  print(a-b)\n",
        "elif op == \"*\":\n",
        "  print(a*b)\n",
        "elif op == \"/\":\n",
        "  print(a/b)\n",
        "else:\n",
        "  print(\" operator_error \")"
      ]
    }
  ]
}