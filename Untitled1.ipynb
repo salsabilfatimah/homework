{
  "nbformat": 4,
  "nbformat_minor": 0,
  "metadata": {
    "colab": {
      "provenance": []
    },
    "kernelspec": {
      "name": "python3",
      "display_name": "Python 3"
    },
    "language_info": {
      "name": "python"
    }
  },
  "cells": [
    {
      "cell_type": "code",
      "execution_count": null,
      "metadata": {
        "colab": {
          "base_uri": "https://localhost:8080/"
        },
        "id": "v_D177PXGZqg",
        "outputId": "d0ab7424-4f3d-4b8b-979f-80f27bd753a8"
      },
      "outputs": [
        {
          "output_type": "stream",
          "name": "stdout",
          "text": [
            "Enter an integer: 102\n",
            "The integer is greater than 100.\n"
          ]
        }
      ],
      "source": [
        "\n",
        "a = int(input(\"Enter an integer: \"))\n",
        "\n",
        "if a > 0:\n",
        "  if a > 100:\n",
        "    print(\"The integer is greater than 100.\")\n",
        "  else:\n",
        "    print(\"The given integer is positive.\")\n",
        "elif a < 0:\n",
        "  if a < -100:\n",
        "    print(\"The integer is less than 100.\")\n",
        "  else:\n",
        "    print(\"The integer is negative.\")\n",
        "elif a == 0:\n",
        "  print(\"The number is ZERO\")"
      ]
    }
  ]
}